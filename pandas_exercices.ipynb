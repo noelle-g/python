{
  "nbformat": 4,
  "nbformat_minor": 0,
  "metadata": {
    "colab": {
      "name": "pandas exercices.ipynb",
      "version": "0.3.2",
      "provenance": [],
      "collapsed_sections": [],
      "include_colab_link": true
    },
    "kernelspec": {
      "name": "python3",
      "display_name": "Python 3"
    }
  },
  "cells": [
    {
      "cell_type": "markdown",
      "metadata": {
        "id": "view-in-github",
        "colab_type": "text"
      },
      "source": [
        "<a href=\"https://colab.research.google.com/github/noelle-g/python/blob/master/pandas_exercices.ipynb\" target=\"_parent\"><img src=\"https://colab.research.google.com/assets/colab-badge.svg\" alt=\"Open In Colab\"/></a>"
      ]
    },
    {
      "cell_type": "markdown",
      "metadata": {
        "id": "HCRmy0BTy9sA",
        "colab_type": "text"
      },
      "source": [
        "001. How to import pandas and check the version?"
      ]
    },
    {
      "cell_type": "code",
      "metadata": {
        "id": "43MmsrstyUYJ",
        "colab_type": "code",
        "outputId": "c93c47a4-53c0-40d2-c913-7f28fdd083aa",
        "colab": {
          "base_uri": "https://localhost:8080/",
          "height": 121
        }
      },
      "source": [
        "import pandas as pd\n",
        "print(pd.__version__)\n",
        "print(pd.show_versions(as_json = True))"
      ],
      "execution_count": 0,
      "outputs": [
        {
          "output_type": "stream",
          "text": [
            "0.24.2\n"
          ],
          "name": "stdout"
        },
        {
          "output_type": "stream",
          "text": [
            "/usr/local/lib/python3.6/dist-packages/psycopg2/__init__.py:144: UserWarning: The psycopg2 wheel package will be renamed from release 2.8; in order to keep installing from binary please use \"pip install psycopg2-binary\" instead. For details see: <http://initd.org/psycopg/docs/install.html#binary-install-from-pypi>.\n",
            "  \"\"\")\n"
          ],
          "name": "stderr"
        },
        {
          "output_type": "stream",
          "text": [
            "{'system': {'commit': None, 'python': '3.6.8.final.0', 'python-bits': 64, 'OS': 'Linux', 'OS-release': '4.14.79+', 'machine': 'x86_64', 'processor': 'x86_64', 'byteorder': 'little', 'LC_ALL': 'None', 'LANG': 'en_US.UTF-8', 'LOCALE': 'en_US.UTF-8'}, 'dependencies': {'pandas': '0.24.2', 'pytest': '3.6.4', 'pip': '19.2.1', 'setuptools': '41.0.1', 'Cython': '0.29.13', 'numpy': '1.16.4', 'scipy': '1.3.0', 'pyarrow': '0.14.1', 'xarray': '0.11.3', 'IPython': '5.5.0', 'sphinx': '1.8.5', 'patsy': '0.5.1', 'dateutil': '2.5.3', 'pytz': '2018.9', 'blosc': None, 'bottleneck': '1.2.1', 'tables': '3.4.4', 'numexpr': '2.6.9', 'feather': '0.4.0', 'matplotlib': '3.0.3', 'openpyxl': '2.5.9', 'xlrd': '1.1.0', 'xlwt': '1.3.0', 'xlsxwriter': None, 'lxml.etree': '4.2.6', 'bs4': '4.6.3', 'html5lib': '1.0.1', 'sqlalchemy': '1.3.6', 'pymysql': None, 'psycopg2': '2.7.6.1 (dt dec pq3 ext lo64)', 'jinja2': '2.10.1', 's3fs': '0.3.1', 'fastparquet': None, 'pandas_gbq': '0.4.1', 'pandas_datareader': '0.7.4', 'gcsfs': None}}\n",
            "None\n"
          ],
          "name": "stdout"
        }
      ]
    },
    {
      "cell_type": "markdown",
      "metadata": {
        "id": "PqzMsrUNy0wP",
        "colab_type": "text"
      },
      "source": [
        "002. How to create a series from a list, numpy array and dict?"
      ]
    },
    {
      "cell_type": "code",
      "metadata": {
        "id": "09CTIMroy6TA",
        "colab_type": "code",
        "outputId": "edebf8de-404b-42e5-a6ee-d903ec789d0c",
        "colab": {
          "base_uri": "https://localhost:8080/",
          "height": 252
        }
      },
      "source": [
        "import numpy as np\n",
        "import pandas as pd\n",
        "serie_from_list = pd.Series([\"a\", \"b\", \"c\"], index = [\"Lettre \" + str(i + 1) for i in range(3)])\n",
        "print(serie_from_list)\n",
        "serie_from_nparray = pd.Series(np.random.randint(low = 0, high = 10, size = 5), index = [\"Chiffre \" + str(i + 1) for i in range(5)])\n",
        "print(serie_from_nparray)\n",
        "dict = {\"Paul\": 35,\n",
        "       \"Jack\": 40,\n",
        "       \"Peter\": 41}\n",
        "serie_from_dict = pd.Series(dict)\n",
        "print(serie_from_dict)"
      ],
      "execution_count": 0,
      "outputs": [
        {
          "output_type": "stream",
          "text": [
            "Lettre 1    a\n",
            "Lettre 2    b\n",
            "Lettre 3    c\n",
            "dtype: object\n",
            "Chiffre 1    2\n",
            "Chiffre 2    7\n",
            "Chiffre 3    2\n",
            "Chiffre 4    5\n",
            "Chiffre 5    6\n",
            "dtype: int64\n",
            "Paul     35\n",
            "Jack     40\n",
            "Peter    41\n",
            "dtype: int64\n"
          ],
          "name": "stdout"
        }
      ]
    },
    {
      "cell_type": "markdown",
      "metadata": {
        "id": "wpnaG44P1CtM",
        "colab_type": "text"
      },
      "source": [
        "003. How to convert the index of a series into a column of a\n",
        "dataframe?"
      ]
    },
    {
      "cell_type": "code",
      "metadata": {
        "id": "u2dyB4A31Oib",
        "colab_type": "code",
        "outputId": "cc39284c-9ece-4535-9c50-c68665a80ac0",
        "colab": {
          "base_uri": "https://localhost:8080/",
          "height": 118
        }
      },
      "source": [
        "import numpy as np\n",
        "import pandas as pd\n",
        "mylist = list('abcedfghijklmnopqrstuvwxyz')\n",
        "myarr = np.arange(26)\n",
        "mydict = dict(zip(mylist, myarr))\n",
        "ser = pd.Series(mydict)\n",
        "df = ser.to_frame().reset_index()\n",
        "print(df.head())"
      ],
      "execution_count": 0,
      "outputs": [
        {
          "output_type": "stream",
          "text": [
            "  index  0\n",
            "0     a  0\n",
            "1     b  1\n",
            "2     c  2\n",
            "3     e  3\n",
            "4     d  4\n"
          ],
          "name": "stdout"
        }
      ]
    },
    {
      "cell_type": "markdown",
      "metadata": {
        "id": "zhdFGq3MS2Jl",
        "colab_type": "text"
      },
      "source": [
        "004. How to combine many series to form a dataframe?"
      ]
    },
    {
      "cell_type": "code",
      "metadata": {
        "id": "4E_s4SuJS7qe",
        "colab_type": "code",
        "outputId": "c4c2ded9-c9c4-4872-ead5-4bc952e7886d",
        "colab": {
          "base_uri": "https://localhost:8080/",
          "height": 218
        }
      },
      "source": [
        "import numpy as np\n",
        "import pandas as pd\n",
        "ser1 = pd.Series(list('abcedfghijklmnopqrstuvwxyz'))\n",
        "ser2 = pd.Series(np.arange(26)) \n",
        "sol1 = pd.concat([ser1, ser2], axis = 1)\n",
        "print(sol1.head())\n",
        "sol2 = pd.concat({'col1': ser1, 'col2': ser2}, axis = 1)\n",
        "print(sol2.head())"
      ],
      "execution_count": 0,
      "outputs": [
        {
          "output_type": "stream",
          "text": [
            "   0  1\n",
            "0  a  0\n",
            "1  b  1\n",
            "2  c  2\n",
            "3  e  3\n",
            "4  d  4\n",
            "  col1  col2\n",
            "0    a     0\n",
            "1    b     1\n",
            "2    c     2\n",
            "3    e     3\n",
            "4    d     4\n"
          ],
          "name": "stdout"
        }
      ]
    },
    {
      "cell_type": "markdown",
      "metadata": {
        "id": "6_LS1fPPT_WY",
        "colab_type": "text"
      },
      "source": [
        "005. How to assign name to the series’ index?"
      ]
    },
    {
      "cell_type": "code",
      "metadata": {
        "id": "U6erLvcDUA8Z",
        "colab_type": "code",
        "outputId": "9f8aa52b-a7ac-418e-e0b6-30ea3af76375",
        "colab": {
          "base_uri": "https://localhost:8080/",
          "height": 118
        }
      },
      "source": [
        "import numpy as np\n",
        "import pandas as pd\n",
        "ser = pd.Series(list('abcedfghijklmnopqrstuvwxyz'))\n",
        "ser.name = 'alphabet'\n",
        "print(ser.head())"
      ],
      "execution_count": 0,
      "outputs": [
        {
          "output_type": "stream",
          "text": [
            "0    a\n",
            "1    b\n",
            "2    c\n",
            "3    e\n",
            "4    d\n",
            "Name: alphabet, dtype: object\n"
          ],
          "name": "stdout"
        }
      ]
    },
    {
      "cell_type": "markdown",
      "metadata": {
        "id": "c263LSFLUYil",
        "colab_type": "text"
      },
      "source": [
        "006. How to get the items of series A not present in series B?"
      ]
    },
    {
      "cell_type": "code",
      "metadata": {
        "id": "9BXNSxq_UZk_",
        "colab_type": "code",
        "outputId": "ab881661-b632-42f7-b6bb-d4f8495bac75",
        "colab": {
          "base_uri": "https://localhost:8080/",
          "height": 185
        }
      },
      "source": [
        "import numpy as np\n",
        "import pandas as pd\n",
        "ser1 = pd.Series([1, 2, 3, 4, 5])\n",
        "ser2 = pd.Series([4, 5, 6, 7, 8])\n",
        "ser3 = ser1[~ser1.isin(ser2)] # ~ means not\n",
        "print(ser3)\n",
        "print(ser1.isin(ser2))"
      ],
      "execution_count": 0,
      "outputs": [
        {
          "output_type": "stream",
          "text": [
            "0    1\n",
            "1    2\n",
            "2    3\n",
            "dtype: int64\n"
          ],
          "name": "stdout"
        },
        {
          "output_type": "execute_result",
          "data": {
            "text/plain": [
              "0    False\n",
              "1    False\n",
              "2    False\n",
              "3     True\n",
              "4     True\n",
              "dtype: bool"
            ]
          },
          "metadata": {
            "tags": []
          },
          "execution_count": 28
        }
      ]
    },
    {
      "cell_type": "markdown",
      "metadata": {
        "id": "GvEInCUtVqMA",
        "colab_type": "text"
      },
      "source": [
        "007. How to get the items not common to both series A and series\n",
        "B?"
      ]
    },
    {
      "cell_type": "code",
      "metadata": {
        "id": "EcyaQFiwVxtZ",
        "colab_type": "code",
        "outputId": "68ff874d-2c39-44db-991f-c4d49667bb37",
        "colab": {
          "base_uri": "https://localhost:8080/",
          "height": 134
        }
      },
      "source": [
        "import numpy as np\n",
        "import pandas as pd\n",
        "ser1 = pd.Series([1, 2, 3, 4, 5])\n",
        "ser2 = pd.Series([4, 5, 6, 7, 8])\n",
        "ser_union = pd.Series(np.union1d(ser1, ser2))\n",
        "ser_inter = pd.Series(np.intersect1d(ser1, ser2))\n",
        "ser3 = ser_union[~ser_union.isin(ser_inter)]\n",
        "print(ser3)\n"
      ],
      "execution_count": 0,
      "outputs": [
        {
          "output_type": "stream",
          "text": [
            "0    1\n",
            "1    2\n",
            "2    3\n",
            "5    6\n",
            "6    7\n",
            "7    8\n",
            "dtype: int64\n"
          ],
          "name": "stdout"
        }
      ]
    },
    {
      "cell_type": "markdown",
      "metadata": {
        "id": "b0Ws-72fXI-3",
        "colab_type": "text"
      },
      "source": [
        "008. How to get the minimum, 25th percentile, median, 75th, and\n",
        "max of a numeric series?"
      ]
    },
    {
      "cell_type": "code",
      "metadata": {
        "id": "5hHLUIcMXKOT",
        "colab_type": "code",
        "outputId": "f058c525-65b9-4eb1-c3ee-f76cc5dcbecb",
        "colab": {
          "base_uri": "https://localhost:8080/",
          "height": 185
        }
      },
      "source": [
        "import numpy as np\n",
        "import pandas as pd\n",
        "ser = pd.Series(np.random.normal(10, 5, 25))\n",
        "sol1 = ser.describe()\n",
        "print(sol1)\n",
        "state = np.random.RandomState(100)\n",
        "ser = pd.Series(state.normal(10, 5, 25))\n",
        "sol2 = np.percentile(ser, q=[0, 25, 50, 75, 100])\n",
        "print(sol2)"
      ],
      "execution_count": 0,
      "outputs": [
        {
          "output_type": "stream",
          "text": [
            "count    25.000000\n",
            "mean      9.333794\n",
            "std       4.665840\n",
            "min      -1.525656\n",
            "25%       7.903176\n",
            "50%       9.808972\n",
            "75%      11.052159\n",
            "max      17.716729\n",
            "dtype: float64\n",
            "[ 1.25117263  7.70986507 10.92259345 13.36360403 18.0949083 ]\n"
          ],
          "name": "stdout"
        }
      ]
    },
    {
      "cell_type": "markdown",
      "metadata": {
        "id": "Vcm9kVaaX4-j",
        "colab_type": "text"
      },
      "source": [
        "009. How to get frequency counts of unique items of a series?"
      ]
    },
    {
      "cell_type": "code",
      "metadata": {
        "id": "-Er6KdzeX57h",
        "colab_type": "code",
        "outputId": "73c118ff-6cf1-4d02-e5a1-08019c751d6d",
        "colab": {
          "base_uri": "https://localhost:8080/",
          "height": 168
        }
      },
      "source": [
        "import numpy as np\n",
        "import pandas as pd\n",
        "ser = pd.Series(np.take(list('abcdefgh'), np.random.randint(8, size=30)))\n",
        "ser.value_counts()/len(ser)"
      ],
      "execution_count": 0,
      "outputs": [
        {
          "output_type": "execute_result",
          "data": {
            "text/plain": [
              "b    0.200000\n",
              "a    0.166667\n",
              "g    0.166667\n",
              "f    0.133333\n",
              "h    0.133333\n",
              "c    0.100000\n",
              "d    0.066667\n",
              "e    0.033333\n",
              "dtype: float64"
            ]
          },
          "metadata": {
            "tags": []
          },
          "execution_count": 21
        }
      ]
    },
    {
      "cell_type": "markdown",
      "metadata": {
        "id": "96XdaDLwCq8o",
        "colab_type": "text"
      },
      "source": [
        "010. How to keep only top 2 most frequent values as it is and\n",
        "replace everything else as ‘Other’?"
      ]
    },
    {
      "cell_type": "code",
      "metadata": {
        "id": "2ZAAACLrCs6O",
        "colab_type": "code",
        "outputId": "08278fcc-22f7-434d-b1b5-4bbd0f01abf7",
        "colab": {
          "base_uri": "https://localhost:8080/",
          "height": 504
        }
      },
      "source": [
        "import numpy as np\n",
        "import pandas as pd\n",
        "np.random.RandomState(100)\n",
        "ser = pd.Series(np.random.randint(1, 5, [12]))\n",
        "print(ser)\n",
        "i = ser.value_counts().sort_values(ascending = False)[2:]\n",
        "print(i)\n",
        "ser[~ser.isin(i)] = 'Other'\n",
        "print(ser)"
      ],
      "execution_count": 0,
      "outputs": [
        {
          "output_type": "stream",
          "text": [
            "0     4\n",
            "1     4\n",
            "2     4\n",
            "3     3\n",
            "4     4\n",
            "5     2\n",
            "6     3\n",
            "7     1\n",
            "8     1\n",
            "9     2\n",
            "10    2\n",
            "11    1\n",
            "dtype: int64\n",
            "2    3\n",
            "3    2\n",
            "dtype: int64\n",
            "0     Other\n",
            "1     Other\n",
            "2     Other\n",
            "3         3\n",
            "4     Other\n",
            "5         2\n",
            "6         3\n",
            "7     Other\n",
            "8     Other\n",
            "9         2\n",
            "10        2\n",
            "11    Other\n",
            "dtype: object\n"
          ],
          "name": "stdout"
        }
      ]
    },
    {
      "cell_type": "markdown",
      "metadata": {
        "id": "ldlmEexmymUS",
        "colab_type": "text"
      },
      "source": [
        ""
      ]
    }
  ]
}